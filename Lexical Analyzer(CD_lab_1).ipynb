{
 "cells": [
  {
   "cell_type": "code",
   "execution_count": 8,
   "metadata": {},
   "outputs": [
    {
     "name": "stdout",
     "output_type": "stream",
     "text": [
      "Hey There! I am Arjit\n",
      "123\n",
      "^%&\n",
      "Number in the program are: 123\n",
      "The keywords and identifier are:\n",
      "Hey is identifier\n",
      "There is identifier\n",
      "I is identifier\n",
      "am is identifier\n",
      "Arjit is identifier\n",
      "Special character are: ! ^ % &\n",
      "Total lines: 3\n"
     ]
    }
   ],
   "source": [
    "import re\n",
    "file_obj=open(\"Desktop/paste.txt\",\"w\")\n",
    "with open (\"Desktop/copy.txt\",\"r\") as f:\n",
    "    fc=f.read()\n",
    "    print(fc)\n",
    "    file_obj.write(fc)\n",
    "file_obj.close()\n",
    "# Above code is to read from copy file and write to paste file\n",
    "\n",
    "file_obj=open(\"Desktop/copy.txt\",\"r\")\n",
    "no_line=0\n",
    "num=[]\n",
    "special=[]\n",
    "ki=[]\n",
    "for line in file_obj:\n",
    "    no_line+=1\n",
    "    y=re.findall('[0-9.]+',line)\n",
    "    if(y != []):\n",
    "        num.append(y)\n",
    "    special.append(re.findall('[^a-zA-Z0-9\\s]',line))\n",
    "    y=re.findall('[a-zA-Z]+',line)\n",
    "    if(y!=[]):\n",
    "        ki.append(y)\n",
    "# Above code to sperate number special character and keyword and identifier\n",
    "\n",
    "num=[y for x in num for y in x]\n",
    "special=[y for x in special for y in x]\n",
    "ki=[y for x in ki for y in x]\n",
    "# to change 2d list to 1d list\n",
    "\n",
    "print(\"Number in the program are:\",\", \".join(num)) # print numbers\n",
    "\n",
    "print(\"The keywords and identifier are:\") # print keywords and identifier\n",
    "keyword=[\"for\",\"while\",\"do\",\"int\",\"float\",\"char\",\"double\",\"static\",\"switch\",\"case\"]\n",
    "for x in ki:\n",
    "    if(x in keyword):\n",
    "        print('{} is keyword'.format(x))\n",
    "    else:\n",
    "        print('{} is identifier'.format(x))\n",
    "\n",
    "print(\"Special character are:\",\" \".join(special)) # print special character\n",
    "print(\"Total lines:\",no_line) # print total number of lines\n",
    "\n",
    "file_obj.close()"
   ]
  },
  {
   "cell_type": "code",
   "execution_count": null,
   "metadata": {},
   "outputs": [],
   "source": []
  },
  {
   "cell_type": "code",
   "execution_count": null,
   "metadata": {},
   "outputs": [],
   "source": []
  }
 ],
 "metadata": {
  "kernelspec": {
   "display_name": "Python 3",
   "language": "python",
   "name": "python3"
  },
  "language_info": {
   "codemirror_mode": {
    "name": "ipython",
    "version": 3
   },
   "file_extension": ".py",
   "mimetype": "text/x-python",
   "name": "python",
   "nbconvert_exporter": "python",
   "pygments_lexer": "ipython3",
   "version": "3.7.3"
  }
 },
 "nbformat": 4,
 "nbformat_minor": 2
}
